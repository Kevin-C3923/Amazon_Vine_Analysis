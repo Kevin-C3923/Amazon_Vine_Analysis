{
  "nbformat": 4,
  "nbformat_minor": 0,
  "metadata": {
    "colab": {
      "name": "Vine_Review_Analysis.ipynb",
      "provenance": []
    },
    "kernelspec": {
      "name": "python3",
      "display_name": "Python 3"
    },
    "language_info": {
      "name": "python"
    }
  },
  "cells": [
    {
      "cell_type": "code",
      "metadata": {
        "id": "V58rxea0HqSa",
        "colab": {
          "base_uri": "https://localhost:8080/"
        },
        "outputId": "828e75df-b23a-4d91-b0d6-f53857765dff"
      },
      "source": [
        "import os\n",
        "# Find the latest version of spark 3.0 from http://www.apache.org/dist/spark/ and enter as the spark version\n",
        "# For example:\n",
        "# spark_version = 'spark-3.0.3'\n",
        "spark_version = 'spark-3.2.1'\n",
        "os.environ['SPARK_VERSION']=spark_version\n",
        "\n",
        "# Install Spark and Java\n",
        "!apt-get update\n",
        "!apt-get install openjdk-11-jdk-headless -qq > /dev/null\n",
        "!wget -q http://www.apache.org/dist/spark/$SPARK_VERSION/$SPARK_VERSION-bin-hadoop2.7.tgz\n",
        "!tar xf $SPARK_VERSION-bin-hadoop2.7.tgz\n",
        "!pip install -q findspark\n",
        "\n",
        "# Set Environment Variables\n",
        "import os\n",
        "os.environ[\"JAVA_HOME\"] = \"/usr/lib/jvm/java-11-openjdk-amd64\"\n",
        "os.environ[\"SPARK_HOME\"] = f\"/content/{spark_version}-bin-hadoop2.7\"\n",
        "\n",
        "# Start a SparkSession\n",
        "import findspark\n",
        "findspark.init()"
      ],
      "execution_count": 1,
      "outputs": [
        {
          "output_type": "stream",
          "name": "stdout",
          "text": [
            "\r0% [Working]\r            \rGet:1 https://cloud.r-project.org/bin/linux/ubuntu bionic-cran40/ InRelease [3,626 B]\n",
            "Ign:2 https://developer.download.nvidia.com/compute/cuda/repos/ubuntu1804/x86_64  InRelease\n",
            "Get:3 http://security.ubuntu.com/ubuntu bionic-security InRelease [88.7 kB]\n",
            "Hit:4 http://archive.ubuntu.com/ubuntu bionic InRelease\n",
            "Get:5 http://ppa.launchpad.net/c2d4u.team/c2d4u4.0+/ubuntu bionic InRelease [15.9 kB]\n",
            "Ign:6 https://developer.download.nvidia.com/compute/machine-learning/repos/ubuntu1804/x86_64  InRelease\n",
            "Get:7 http://archive.ubuntu.com/ubuntu bionic-updates InRelease [88.7 kB]\n",
            "Get:8 https://developer.download.nvidia.com/compute/cuda/repos/ubuntu1804/x86_64  Release [696 B]\n",
            "Hit:9 https://developer.download.nvidia.com/compute/machine-learning/repos/ubuntu1804/x86_64  Release\n",
            "Get:10 https://developer.download.nvidia.com/compute/cuda/repos/ubuntu1804/x86_64  Release.gpg [836 B]\n",
            "Hit:11 http://ppa.launchpad.net/cran/libgit2/ubuntu bionic InRelease\n",
            "Get:12 http://archive.ubuntu.com/ubuntu bionic-backports InRelease [74.6 kB]\n",
            "Get:13 http://ppa.launchpad.net/deadsnakes/ppa/ubuntu bionic InRelease [15.9 kB]\n",
            "Hit:14 http://ppa.launchpad.net/graphics-drivers/ppa/ubuntu bionic InRelease\n",
            "Get:15 http://ppa.launchpad.net/c2d4u.team/c2d4u4.0+/ubuntu bionic/main Sources [1,947 kB]\n",
            "Get:17 https://developer.download.nvidia.com/compute/cuda/repos/ubuntu1804/x86_64  Packages [953 kB]\n",
            "Get:18 http://security.ubuntu.com/ubuntu bionic-security/universe amd64 Packages [1,490 kB]\n",
            "Get:19 http://ppa.launchpad.net/c2d4u.team/c2d4u4.0+/ubuntu bionic/main amd64 Packages [996 kB]\n",
            "Get:20 http://security.ubuntu.com/ubuntu bionic-security/main amd64 Packages [2,695 kB]\n",
            "Get:21 http://archive.ubuntu.com/ubuntu bionic-updates/universe amd64 Packages [2,268 kB]\n",
            "Get:22 http://archive.ubuntu.com/ubuntu bionic-updates/main amd64 Packages [3,134 kB]\n",
            "Get:23 http://ppa.launchpad.net/deadsnakes/ppa/ubuntu bionic/main amd64 Packages [45.3 kB]\n",
            "Fetched 13.8 MB in 5s (2,812 kB/s)\n",
            "Reading package lists... Done\n"
          ]
        }
      ]
    },
    {
      "cell_type": "code",
      "metadata": {
        "id": "_xKwTpATHqSe",
        "colab": {
          "base_uri": "https://localhost:8080/"
        },
        "outputId": "92005654-a536-4d82-9a26-ae79d8d7598e"
      },
      "source": [
        "# Download the Postgres driver that will allow Spark to interact with Postgres.\n",
        "!wget https://jdbc.postgresql.org/download/postgresql-42.2.16.jar"
      ],
      "execution_count": 2,
      "outputs": [
        {
          "output_type": "stream",
          "name": "stdout",
          "text": [
            "--2022-04-17 02:16:02--  https://jdbc.postgresql.org/download/postgresql-42.2.16.jar\n",
            "Resolving jdbc.postgresql.org (jdbc.postgresql.org)... 72.32.157.228, 2001:4800:3e1:1::228\n",
            "Connecting to jdbc.postgresql.org (jdbc.postgresql.org)|72.32.157.228|:443... connected.\n",
            "HTTP request sent, awaiting response... 200 OK\n",
            "Length: 1002883 (979K) [application/java-archive]\n",
            "Saving to: ‘postgresql-42.2.16.jar’\n",
            "\n",
            "postgresql-42.2.16. 100%[===================>] 979.38K  5.74MB/s    in 0.2s    \n",
            "\n",
            "2022-04-17 02:16:02 (5.74 MB/s) - ‘postgresql-42.2.16.jar’ saved [1002883/1002883]\n",
            "\n"
          ]
        }
      ]
    },
    {
      "cell_type": "code",
      "metadata": {
        "id": "MMqDAjVS0KN9"
      },
      "source": [
        "from pyspark.sql import SparkSession\n",
        "spark = SparkSession.builder.appName(\"M16-Amazon-Challenge\").config(\"spark.driver.extraClassPath\",\"/content/postgresql-42.2.16.jar\").getOrCreate()"
      ],
      "execution_count": 3,
      "outputs": []
    },
    {
      "cell_type": "markdown",
      "metadata": {
        "id": "cyBsySGuY-9V"
      },
      "source": [
        "### Load Amazon Data into Spark DataFrame"
      ]
    },
    {
      "cell_type": "code",
      "metadata": {
        "id": "CtCmBhQJY-9Z",
        "colab": {
          "base_uri": "https://localhost:8080/"
        },
        "outputId": "1e7e00f9-e944-430b-f904-43063f235e6f"
      },
      "source": [
        "from pyspark import SparkFiles\n",
        "url = \"https://databootcamp-kevinc-bucket.s3.amazonaws.com/amazon_reviews_Video_Games.tsv\"\n",
        "spark.sparkContext.addFile(url)\n",
        "df = spark.read.option(\"encoding\", \"UTF-8\").csv(SparkFiles.get(\"amazon_reviews_Video_Games.tsv\"), sep=\"\\t\", header=True, inferSchema=True)\n",
        "df.show()"
      ],
      "execution_count": 4,
      "outputs": [
        {
          "output_type": "stream",
          "name": "stdout",
          "text": [
            "+-----------+-----------+--------------+----------+--------------+--------------------+----------------+-----------+-------------+-----------+----+-----------------+--------------------+--------------------+-----------+\n",
            "|marketplace|customer_id|     review_id|product_id|product_parent|       product_title|product_category|star_rating|helpful_votes|total_votes|vine|verified_purchase|     review_headline|         review_body|review_date|\n",
            "+-----------+-----------+--------------+----------+--------------+--------------------+----------------+-----------+-------------+-----------+----+-----------------+--------------------+--------------------+-----------+\n",
            "|         US|   12039526| RTIS3L2M1F5SM|B001CXYMFS|     737716809|Thrustmaster T-Fl...|     Video Games|          5|            0|          0|   N|                Y|an amazing joysti...|Used this for Eli...| 2015-08-31|\n",
            "|         US|    9636577| R1ZV7R40OLHKD|B00M920ND6|     569686175|Tonsee 6 buttons ...|     Video Games|          5|            0|          0|   N|                Y|Definitely a sile...|Loved it,  I didn...| 2015-08-31|\n",
            "|         US|    2331478|R3BH071QLH8QMC|B0029CSOD2|      98937668|Hidden Mysteries:...|     Video Games|          1|            0|          1|   N|                Y|            One Star|poor quality work...| 2015-08-31|\n",
            "|         US|   52495923|R127K9NTSXA2YH|B00GOOSV98|      23143350|GelTabz Performan...|     Video Games|          3|            0|          0|   N|                Y|good, but could b...|nice, but tend to...| 2015-08-31|\n",
            "|         US|   14533949|R32ZWUXDJPW27Q|B00Y074JOM|     821342511|Zero Suit Samus a...|     Video Games|          4|            0|          0|   N|                Y|   Great but flawed.|Great amiibo, gre...| 2015-08-31|\n",
            "|         US|    2377552|R3AQQ4YUKJWBA6|B002UBI6W6|     328764615|Psyclone Recharge...|     Video Games|          1|            0|          0|   N|                Y|            One Star|The remote consta...| 2015-08-31|\n",
            "|         US|   17521011|R2F0POU5K6F73F|B008XHCLFO|      24234603|Protection for yo...|     Video Games|          5|            0|          0|   N|                Y|              A Must|I have a 2012-201...| 2015-08-31|\n",
            "|         US|   19676307|R3VNR804HYSMR6|B00BRA9R6A|     682267517|   Nerf 3DS XL Armor|     Video Games|          5|            0|          0|   N|                Y|          Five Stars|Perfect, kids lov...| 2015-08-31|\n",
            "|         US|     224068| R3GZTM72WA2QH|B009EPWJLA|     435241890|One Piece: Pirate...|     Video Games|          5|            0|          0|   N|                Y|          Five Stars|            Excelent| 2015-08-31|\n",
            "|         US|   48467989| RNQOY62705W1K|B0000AV7GB|     256572651|Playstation 2 Dan...|     Video Games|          4|            0|          0|   N|                Y|          Four Stars|Slippery but expe...| 2015-08-31|\n",
            "|         US|     106569|R1VTIA3JTYBY02|B00008KTNN|     384411423|Metal Arms: Glitc...|     Video Games|          5|            0|          0|   N|                N|          Five Stars|Love the game. Se...| 2015-08-31|\n",
            "|         US|   48269642|R29DOU8791QZL8|B000A3IA0Y|     472622859|72 Pin Connector ...|     Video Games|          1|            0|          0|   N|                Y| Game will get stuck|Does not fit prop...| 2015-08-31|\n",
            "|         US|   52738710|R15DUT1VIJ9RJZ|B0053BQN34|     577628462|uDraw Gametablet ...|     Video Games|          2|            0|          0|   N|                Y|We have tried it ...|This was way too ...| 2015-08-31|\n",
            "|         US|   10556786|R3IMF2MQ3OU9ZM|B002I0HIMI|     988218515|NBA 2K12(Covers M...|     Video Games|          4|            0|          0|   N|                Y|          Four Stars|Works great good ...| 2015-08-31|\n",
            "|         US|    2963837|R23H79DHOZTYAU|B0081EH12M|     770100932|New Trigger Grips...|     Video Games|          1|            1|          1|   N|                Y|Now i have to buy...|It did not fit th...| 2015-08-31|\n",
            "|         US|   23092109| RIV24EQAIXA4O|B005FMLZQQ|      24647669|Xbox 360 Media Re...|     Video Games|          5|            0|          0|   N|                Y|          Five Stars|perfect lightweig...| 2015-08-31|\n",
            "|         US|   23091728|R3UCNGYDVN24YB|B002BSA388|      33706205|Super Mario Galaxy 2|     Video Games|          5|            0|          0|   N|                Y|          Five Stars|               great| 2015-08-31|\n",
            "|         US|   10712640| RUL4H4XTTN2DY|B00BUSLSAC|     829667834|Nintendo 3DS XL -...|     Video Games|          5|            0|          0|   N|                Y|          Five Stars|Works beautifully...| 2015-08-31|\n",
            "|         US|   17455376|R20JF7Z4DHTNX5|B00KWF38AW|     110680188|Captain Toad:  Tr...|     Video Games|          5|            0|          0|   N|                Y|          Five Stars|Kids loved the ga...| 2015-08-31|\n",
            "|         US|   14754850|R2T1AJ5MFI2260|B00BRQJYA8|     616463426|Lego Batman 2: DC...|     Video Games|          4|            0|          0|   N|                Y|          Four Stars|           Goodngame| 2015-08-31|\n",
            "+-----------+-----------+--------------+----------+--------------+--------------------+----------------+-----------+-------------+-----------+----+-----------------+--------------------+--------------------+-----------+\n",
            "only showing top 20 rows\n",
            "\n"
          ]
        }
      ]
    },
    {
      "cell_type": "markdown",
      "metadata": {
        "id": "2yUSe55VY-9t"
      },
      "source": [
        "### Create DataFrames to Determine Bias of Vine Reviews"
      ]
    },
    {
      "cell_type": "code",
      "metadata": {
        "id": "C8REmY1aY-9u"
      },
      "source": [
        "from pyspark.sql.functions import to_date\n",
        "# Read in the Review dataset as a DataFrame\n",
        "from pyspark.sql.functions import count"
      ],
      "execution_count": 5,
      "outputs": []
    },
    {
      "cell_type": "code",
      "metadata": {
        "id": "lzMmkdKmY--D"
      },
      "source": [
        "# Create the vine_table. DataFrame\n",
        "vine_df = df.select(['review_id', 'star_rating', 'helpful_votes', 'total_votes', 'vine', 'verified_purchase'])"
      ],
      "execution_count": 6,
      "outputs": []
    },
    {
      "cell_type": "code",
      "source": [
        "vine_df.show()"
      ],
      "metadata": {
        "colab": {
          "base_uri": "https://localhost:8080/"
        },
        "id": "LXurTGHHSAmp",
        "outputId": "757bd95b-1fa9-49ba-a905-ae0e649b0723"
      },
      "execution_count": 7,
      "outputs": [
        {
          "output_type": "stream",
          "name": "stdout",
          "text": [
            "+--------------+-----------+-------------+-----------+----+-----------------+\n",
            "|     review_id|star_rating|helpful_votes|total_votes|vine|verified_purchase|\n",
            "+--------------+-----------+-------------+-----------+----+-----------------+\n",
            "| RTIS3L2M1F5SM|          5|            0|          0|   N|                Y|\n",
            "| R1ZV7R40OLHKD|          5|            0|          0|   N|                Y|\n",
            "|R3BH071QLH8QMC|          1|            0|          1|   N|                Y|\n",
            "|R127K9NTSXA2YH|          3|            0|          0|   N|                Y|\n",
            "|R32ZWUXDJPW27Q|          4|            0|          0|   N|                Y|\n",
            "|R3AQQ4YUKJWBA6|          1|            0|          0|   N|                Y|\n",
            "|R2F0POU5K6F73F|          5|            0|          0|   N|                Y|\n",
            "|R3VNR804HYSMR6|          5|            0|          0|   N|                Y|\n",
            "| R3GZTM72WA2QH|          5|            0|          0|   N|                Y|\n",
            "| RNQOY62705W1K|          4|            0|          0|   N|                Y|\n",
            "|R1VTIA3JTYBY02|          5|            0|          0|   N|                N|\n",
            "|R29DOU8791QZL8|          1|            0|          0|   N|                Y|\n",
            "|R15DUT1VIJ9RJZ|          2|            0|          0|   N|                Y|\n",
            "|R3IMF2MQ3OU9ZM|          4|            0|          0|   N|                Y|\n",
            "|R23H79DHOZTYAU|          1|            1|          1|   N|                Y|\n",
            "| RIV24EQAIXA4O|          5|            0|          0|   N|                Y|\n",
            "|R3UCNGYDVN24YB|          5|            0|          0|   N|                Y|\n",
            "| RUL4H4XTTN2DY|          5|            0|          0|   N|                Y|\n",
            "|R20JF7Z4DHTNX5|          5|            0|          0|   N|                Y|\n",
            "|R2T1AJ5MFI2260|          4|            0|          0|   N|                Y|\n",
            "+--------------+-----------+-------------+-----------+----+-----------------+\n",
            "only showing top 20 rows\n",
            "\n"
          ]
        }
      ]
    },
    {
      "cell_type": "code",
      "source": [
        "vine_total_votes_df = vine_df.filter(\"total_votes>=20\")\n",
        "vine_total_votes_df.show()"
      ],
      "metadata": {
        "id": "iAXvfHUvVUTf",
        "colab": {
          "base_uri": "https://localhost:8080/"
        },
        "outputId": "a2a73c6f-7de6-421b-e4c0-39306548d629"
      },
      "execution_count": 8,
      "outputs": [
        {
          "output_type": "stream",
          "name": "stdout",
          "text": [
            "+--------------+-----------+-------------+-----------+----+-----------------+\n",
            "|     review_id|star_rating|helpful_votes|total_votes|vine|verified_purchase|\n",
            "+--------------+-----------+-------------+-----------+----+-----------------+\n",
            "| R4PKAZRQJJX14|          1|           21|         34|   N|                N|\n",
            "|R2CI0Y288CC7E2|          1|           21|         35|   N|                Y|\n",
            "|R127WEQY2FM1T3|          1|          147|        175|   N|                Y|\n",
            "|R3EZ0EPYLDA34S|          1|           14|         31|   N|                Y|\n",
            "|R2FJ94555FZH32|          2|           55|         60|   N|                N|\n",
            "|R1U3AR67RE273L|          1|           51|         65|   N|                Y|\n",
            "|R3PZOXA5X1U8KW|          4|           31|         36|   N|                N|\n",
            "| R6KTC1OPIOIIG|          2|           19|         34|   N|                Y|\n",
            "|R36O341WWXXKNP|          5|           28|         31|   N|                N|\n",
            "|R3GSK9MM8DNOYI|          1|            4|         32|   N|                N|\n",
            "|R10LZVBLQHBVJ0|          2|          151|        198|   N|                N|\n",
            "|R1VR5GLGY1GE7N|          1|           49|         51|   N|                Y|\n",
            "|R3GUUC6NT4QMCL|          1|            5|         36|   N|                N|\n",
            "|R1ZSD020RT18I5|          1|            7|        139|   N|                N|\n",
            "|R113X48B575ASY|          1|           15|         45|   N|                N|\n",
            "| RJLYLGRYH7SFQ|          1|           34|        116|   N|                N|\n",
            "|R2OWDAR0EDEPTF|          1|           23|         28|   N|                N|\n",
            "|R3CICXKAHN6NUD|          1|            0|         23|   N|                Y|\n",
            "|R29BOS5HMAY1LO|          5|           88|        110|   N|                N|\n",
            "| R8WD0136CETA7|          2|           99|        119|   N|                N|\n",
            "+--------------+-----------+-------------+-----------+----+-----------------+\n",
            "only showing top 20 rows\n",
            "\n"
          ]
        }
      ]
    },
    {
      "cell_type": "code",
      "source": [
        "vine_divided_df = vine_total_votes_df.filter( \"(helpful_votes/total_votes) >= 0.5\" )\n",
        "vine_divided_df.show()"
      ],
      "metadata": {
        "id": "19XmQ4RtWXGK",
        "colab": {
          "base_uri": "https://localhost:8080/"
        },
        "outputId": "0fee41ae-076e-41dc-eb66-db9cd6555b4a"
      },
      "execution_count": 9,
      "outputs": [
        {
          "output_type": "stream",
          "name": "stdout",
          "text": [
            "+--------------+-----------+-------------+-----------+----+-----------------+\n",
            "|     review_id|star_rating|helpful_votes|total_votes|vine|verified_purchase|\n",
            "+--------------+-----------+-------------+-----------+----+-----------------+\n",
            "| R4PKAZRQJJX14|          1|           21|         34|   N|                N|\n",
            "|R2CI0Y288CC7E2|          1|           21|         35|   N|                Y|\n",
            "|R127WEQY2FM1T3|          1|          147|        175|   N|                Y|\n",
            "|R2FJ94555FZH32|          2|           55|         60|   N|                N|\n",
            "|R1U3AR67RE273L|          1|           51|         65|   N|                Y|\n",
            "|R3PZOXA5X1U8KW|          4|           31|         36|   N|                N|\n",
            "| R6KTC1OPIOIIG|          2|           19|         34|   N|                Y|\n",
            "|R36O341WWXXKNP|          5|           28|         31|   N|                N|\n",
            "|R10LZVBLQHBVJ0|          2|          151|        198|   N|                N|\n",
            "|R1VR5GLGY1GE7N|          1|           49|         51|   N|                Y|\n",
            "|R2OWDAR0EDEPTF|          1|           23|         28|   N|                N|\n",
            "|R29BOS5HMAY1LO|          5|           88|        110|   N|                N|\n",
            "| R8WD0136CETA7|          2|           99|        119|   N|                N|\n",
            "|R16621F16PQN5A|          3|           24|         31|   N|                Y|\n",
            "|R1LXBPG1M9DDOC|          1|          102|        106|   N|                N|\n",
            "| RNEMGSUKJ4535|          2|           21|         25|   N|                Y|\n",
            "|R3R2UKBFKP1IQ4|          1|           19|         23|   N|                Y|\n",
            "|R2T90XM5G2DBZA|          3|           15|         22|   N|                Y|\n",
            "| R5ZMK0Y0KRBRZ|          1|           79|         91|   N|                N|\n",
            "|R12E2W0XOV3I2S|          1|           24|         30|   N|                Y|\n",
            "+--------------+-----------+-------------+-----------+----+-----------------+\n",
            "only showing top 20 rows\n",
            "\n"
          ]
        }
      ]
    },
    {
      "cell_type": "code",
      "source": [
        "vine_paided_df = vine_divided_df.filter( vine_divided_df['vine'] == 'Y' )\n",
        "vine_paided_df.show()"
      ],
      "metadata": {
        "id": "_VacmwReYXp_",
        "colab": {
          "base_uri": "https://localhost:8080/"
        },
        "outputId": "e6637229-43ce-4825-eb67-2de1552efddc"
      },
      "execution_count": 10,
      "outputs": [
        {
          "output_type": "stream",
          "name": "stdout",
          "text": [
            "+--------------+-----------+-------------+-----------+----+-----------------+\n",
            "|     review_id|star_rating|helpful_votes|total_votes|vine|verified_purchase|\n",
            "+--------------+-----------+-------------+-----------+----+-----------------+\n",
            "|R3KKUSGFZWSUIY|          5|           56|         63|   Y|                N|\n",
            "|R10FO5UKKVZBK2|          3|           23|         23|   Y|                N|\n",
            "| RM4KSGEOR7MU1|          5|           19|         24|   Y|                N|\n",
            "| RG7VRMYLEXD23|          4|           22|         26|   Y|                N|\n",
            "|R11O4YSCPSNL6L|          3|           20|         26|   Y|                N|\n",
            "|R286MFBAJ8NPD6|          5|           46|         51|   Y|                N|\n",
            "|R1JRR530H4COA2|          5|           22|         28|   Y|                N|\n",
            "| RQ5WD90PUNBU9|          5|           21|         24|   Y|                N|\n",
            "|R12648VHCQWUV9|          4|           21|         28|   Y|                N|\n",
            "|R3KAW29CJ8L6DQ|          5|           17|         20|   Y|                N|\n",
            "|R1OWK33OPI45KT|          5|           55|         58|   Y|                N|\n",
            "|R2UP7VTED8O425|          5|           35|         41|   Y|                N|\n",
            "|R3N4QAXTQCA1ED|          5|           18|         20|   Y|                N|\n",
            "|R3EPHK0JGQGE91|          5|           21|         28|   Y|                N|\n",
            "| RCP3KRO47S0GG|          4|           51|         58|   Y|                N|\n",
            "|R3JT907UUA1WUI|          4|           85|        103|   Y|                N|\n",
            "| RY0555ILXIYXW|          5|           38|         50|   Y|                N|\n",
            "|R24PS9N276OXF4|          5|          241|        262|   Y|                N|\n",
            "|R3R0F8ETAGTIOT|          5|           14|         20|   Y|                N|\n",
            "| ROXZOMHBY8Y9S|          4|           21|         23|   Y|                N|\n",
            "+--------------+-----------+-------------+-----------+----+-----------------+\n",
            "only showing top 20 rows\n",
            "\n"
          ]
        }
      ]
    },
    {
      "cell_type": "code",
      "source": [
        "vine_unpaided_df = vine_divided_df.filter( vine_divided_df['vine'] == 'N' )\n",
        "vine_unpaided_df.show()"
      ],
      "metadata": {
        "id": "W3QgsWZ4adaI",
        "colab": {
          "base_uri": "https://localhost:8080/"
        },
        "outputId": "b19ee8db-79d3-45c0-c88d-7fe9d68f6585"
      },
      "execution_count": 11,
      "outputs": [
        {
          "output_type": "stream",
          "name": "stdout",
          "text": [
            "+--------------+-----------+-------------+-----------+----+-----------------+\n",
            "|     review_id|star_rating|helpful_votes|total_votes|vine|verified_purchase|\n",
            "+--------------+-----------+-------------+-----------+----+-----------------+\n",
            "| R4PKAZRQJJX14|          1|           21|         34|   N|                N|\n",
            "|R2CI0Y288CC7E2|          1|           21|         35|   N|                Y|\n",
            "|R127WEQY2FM1T3|          1|          147|        175|   N|                Y|\n",
            "|R2FJ94555FZH32|          2|           55|         60|   N|                N|\n",
            "|R1U3AR67RE273L|          1|           51|         65|   N|                Y|\n",
            "|R3PZOXA5X1U8KW|          4|           31|         36|   N|                N|\n",
            "| R6KTC1OPIOIIG|          2|           19|         34|   N|                Y|\n",
            "|R36O341WWXXKNP|          5|           28|         31|   N|                N|\n",
            "|R10LZVBLQHBVJ0|          2|          151|        198|   N|                N|\n",
            "|R1VR5GLGY1GE7N|          1|           49|         51|   N|                Y|\n",
            "|R2OWDAR0EDEPTF|          1|           23|         28|   N|                N|\n",
            "|R29BOS5HMAY1LO|          5|           88|        110|   N|                N|\n",
            "| R8WD0136CETA7|          2|           99|        119|   N|                N|\n",
            "|R16621F16PQN5A|          3|           24|         31|   N|                Y|\n",
            "|R1LXBPG1M9DDOC|          1|          102|        106|   N|                N|\n",
            "| RNEMGSUKJ4535|          2|           21|         25|   N|                Y|\n",
            "|R3R2UKBFKP1IQ4|          1|           19|         23|   N|                Y|\n",
            "|R2T90XM5G2DBZA|          3|           15|         22|   N|                Y|\n",
            "| R5ZMK0Y0KRBRZ|          1|           79|         91|   N|                N|\n",
            "|R12E2W0XOV3I2S|          1|           24|         30|   N|                Y|\n",
            "+--------------+-----------+-------------+-----------+----+-----------------+\n",
            "only showing top 20 rows\n",
            "\n"
          ]
        }
      ]
    },
    {
      "cell_type": "markdown",
      "source": [
        "### Paided Reviews"
      ],
      "metadata": {
        "id": "1hnO500jeZ7n"
      }
    },
    {
      "cell_type": "code",
      "source": [
        "total_paided_review_count = vine_paided_df.select(count(\"star_rating\")).withColumnRenamed(\"count(star_rating)\", \"Total Paided Review\")\n",
        "total_paided_review_count.show()"
      ],
      "metadata": {
        "colab": {
          "base_uri": "https://localhost:8080/"
        },
        "id": "3fUdjZp8e2vB",
        "outputId": "7793771a-ec47-478e-9ee5-83b6ec07dd15"
      },
      "execution_count": 12,
      "outputs": [
        {
          "output_type": "stream",
          "name": "stdout",
          "text": [
            "+-------------------+\n",
            "|Total Paided Review|\n",
            "+-------------------+\n",
            "|                 94|\n",
            "+-------------------+\n",
            "\n"
          ]
        }
      ]
    },
    {
      "cell_type": "code",
      "source": [
        "paided_stars = vine_paided_df.filter(vine_paided_df['star_rating'] == '5')\n",
        "paided_stars_count = paided_stars.select(count(\"star_rating\")).withColumnRenamed(\"count(star_rating)\", \"Total 5 Star Review: Paided\")\n",
        "paided_stars_count.show()"
      ],
      "metadata": {
        "colab": {
          "base_uri": "https://localhost:8080/"
        },
        "id": "OiSG3Ahfa7On",
        "outputId": "590deb5c-a133-422e-9ddf-b24d59c1ae63"
      },
      "execution_count": 13,
      "outputs": [
        {
          "output_type": "stream",
          "name": "stdout",
          "text": [
            "+---------------------------+\n",
            "|Total 5 Star Review: Paided|\n",
            "+---------------------------+\n",
            "|                         48|\n",
            "+---------------------------+\n",
            "\n"
          ]
        }
      ]
    },
    {
      "cell_type": "code",
      "source": [
        "five_star_percentage_paided = total_paided_review_count.join(paided_stars_count)\n",
        "\n",
        "five_star_percentage_paided.show()\n",
        "\n",
        "five_star_percentage_paided.withColumn('Percentage', (five_star_percentage_paided['Total 5 Star Review: Paided'] / five_star_percentage_paided['Total Paided Review']) * 100 ).show()\n"
      ],
      "metadata": {
        "colab": {
          "base_uri": "https://localhost:8080/"
        },
        "id": "-psa0P3ye9ke",
        "outputId": "07055dcf-cf7f-4937-f397-7aa32b9ad8ff"
      },
      "execution_count": 26,
      "outputs": [
        {
          "output_type": "stream",
          "name": "stdout",
          "text": [
            "+-------------------+---------------------------+\n",
            "|Total Paided Review|Total 5 Star Review: Paided|\n",
            "+-------------------+---------------------------+\n",
            "|                 94|                         48|\n",
            "+-------------------+---------------------------+\n",
            "\n",
            "+-------------------+---------------------------+-----------------+\n",
            "|Total Paided Review|Total 5 Star Review: Paided|       Percentage|\n",
            "+-------------------+---------------------------+-----------------+\n",
            "|                 94|                         48|51.06382978723404|\n",
            "+-------------------+---------------------------+-----------------+\n",
            "\n"
          ]
        }
      ]
    },
    {
      "cell_type": "markdown",
      "source": [
        "### Unpaid Reviews\n"
      ],
      "metadata": {
        "id": "7wnLw5IrtCsY"
      }
    },
    {
      "cell_type": "code",
      "source": [
        "total_unpaided_review_count = vine_unpaided_df.select(count(\"star_rating\")).withColumnRenamed(\"count(star_rating)\", \"Total Unpaided Review\")\n",
        "total_unpaided_review_count.show()"
      ],
      "metadata": {
        "colab": {
          "base_uri": "https://localhost:8080/"
        },
        "id": "Gglu4djwtJBv",
        "outputId": "d63412a6-cf2b-4932-905b-549bafbc4146"
      },
      "execution_count": 27,
      "outputs": [
        {
          "output_type": "stream",
          "name": "stdout",
          "text": [
            "+---------------------+\n",
            "|Total Unpaided Review|\n",
            "+---------------------+\n",
            "|                40471|\n",
            "+---------------------+\n",
            "\n"
          ]
        }
      ]
    },
    {
      "cell_type": "code",
      "source": [
        "unpaided_stars = vine_unpaided_df.filter(vine_unpaided_df['star_rating'] == '5')\n",
        "unpaided_stars_count = unpaided_stars.select(count(\"star_rating\")).withColumnRenamed(\"count(star_rating)\", \"Total 5 Star Review: Unpaided\")\n",
        "unpaided_stars_count.show()"
      ],
      "metadata": {
        "colab": {
          "base_uri": "https://localhost:8080/"
        },
        "id": "z0R3GZlZteAK",
        "outputId": "998f38ac-2846-43be-9453-cad5161407b8"
      },
      "execution_count": 28,
      "outputs": [
        {
          "output_type": "stream",
          "name": "stdout",
          "text": [
            "+-----------------------------+\n",
            "|Total 5 Star Review: Unpaided|\n",
            "+-----------------------------+\n",
            "|                        15663|\n",
            "+-----------------------------+\n",
            "\n"
          ]
        }
      ]
    },
    {
      "cell_type": "code",
      "source": [
        "five_star_percentage_unpaided = total_unpaided_review_count.join(unpaided_stars_count)\n",
        "\n",
        "five_star_percentage_unpaided.show()\n",
        "\n",
        "five_star_percentage_unpaided.withColumn('Percentage', (five_star_percentage_unpaided['Total 5 Star Review: Unpaided'] / five_star_percentage_unpaided['Total Unpaided Review']) * 100 ).show()"
      ],
      "metadata": {
        "id": "XYKl7c5atzif",
        "colab": {
          "base_uri": "https://localhost:8080/"
        },
        "outputId": "ef5d0e56-e821-4a77-eadf-2036896e190d"
      },
      "execution_count": 29,
      "outputs": [
        {
          "output_type": "stream",
          "name": "stdout",
          "text": [
            "+---------------------+-----------------------------+\n",
            "|Total Unpaided Review|Total 5 Star Review: Unpaided|\n",
            "+---------------------+-----------------------------+\n",
            "|                40471|                        15663|\n",
            "+---------------------+-----------------------------+\n",
            "\n",
            "+---------------------+-----------------------------+------------------+\n",
            "|Total Unpaided Review|Total 5 Star Review: Unpaided|        Percentage|\n",
            "+---------------------+-----------------------------+------------------+\n",
            "|                40471|                        15663|38.701786464381904|\n",
            "+---------------------+-----------------------------+------------------+\n",
            "\n"
          ]
        }
      ]
    }
  ]
}